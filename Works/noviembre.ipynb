{
 "cells": [
  {
   "cell_type": "code",
   "execution_count": null,
   "metadata": {},
   "outputs": [],
   "source": [
    "import pandas as pd\n",
    "import os"
   ]
  },
  {
   "cell_type": "code",
   "execution_count": 36,
   "metadata": {},
   "outputs": [],
   "source": [
    "# Cargar el archivo de Excel\n",
    "archivo_entrada = 'H:\\\\NOVIEMBRE\\\\Indice Noviembre OK.xlsx'"
   ]
  },
  {
   "cell_type": "code",
   "execution_count": 37,
   "metadata": {},
   "outputs": [],
   "source": [
    "# Ruta de las carpetas que deseas explorar\n",
    "ruta_carpeta = 'H:\\\\NOVIEMBRE\\\\Quincena_2321'\n",
    "ruta_carpeta_2 = 'H:\\\\NOVIEMBRE\\\\Quincena_2322'"
   ]
  },
  {
   "cell_type": "code",
   "execution_count": 39,
   "metadata": {},
   "outputs": [
    {
     "name": "stdout",
     "output_type": "stream",
     "text": [
      "     Nomenclatura\n",
      "0  NOD_2321_0_101\n",
      "1  NOA_2321_0_101\n",
      "2  NJA_2321_0_101\n",
      "3  NOD_2321_2_101\n",
      "4  NOA_2321_3_101\n",
      "              Nomenclatura\n",
      "0  ACTA ADMINISTRATIVA_243\n",
      "1                  desktop\n",
      "2           NJA_2321_0_101\n",
      "3           NJA_2321_0_102\n",
      "4           NJA_2321_0_103\n",
      "Número de archivos en el primer DataFrame: 642\n",
      "Número de archivos en el segundo DataFrame: 884\n",
      "Número de archivos en el DataFrame final: 1526\n",
      "Número de archivos DF total: 1510\n"
     ]
    }
   ],
   "source": [
    "# Leer el archivo de Excel y crear un DataFrame\n",
    "df = pd.read_excel(archivo_entrada)\n",
    "\n",
    "# Obtener la lista de nombres de archivos en la carpeta\n",
    "nombres_archivos = os.listdir(ruta_carpeta)\n",
    "# Obtener la lista de nombres de archivos en la segunda carpeta\n",
    "nombres_archivos_2 = os.listdir(ruta_carpeta_2)\n",
    "\n",
    "# Ruta de la segunda carpeta que deseas explorar\n",
    "# ruta_carpeta_2 = '/ruta/a/la/segunda/carpeta'\n",
    "\n",
    "# Seleccionar solo las columnas que deseas para trabajar\n",
    "columnas_seleccionadas = ['QUINCENA', 'ANOMINA', 'REPORTE', 'NARCHIVO', 'ARCHIVO', 'DEPENDEN', 'SUB_DEP', 'VALIDACIÓN']\n",
    "df = df[columnas_seleccionadas]\n",
    "\n",
    "# Eliminar las columnas que no necesitas\n",
    "columnas_a_eliminar = ['ANOMINA', 'NARCHIVO', 'ARCHIVO', 'VALIDACIÓN']\n",
    "df = df.drop(columns=columnas_a_eliminar)\n",
    "\n",
    "# Crear un DataFrame con los nombres de los archivos\n",
    "df_archivos = pd.DataFrame({'Nombre de Archivo': nombres_archivos})\n",
    "\n",
    "# Crear un DataFrame con los nombres de los archivos de la segunda carpeta\n",
    "df_archivos_2 = pd.DataFrame({'Nombre de Archivo': nombres_archivos_2})\n",
    "\n",
    "# Verificar si el valor en la columna \"SUB_DEP\" es un número y reemplazarlo por un valor nulo si no lo es\n",
    "df['SUB_DEP'] = df['SUB_DEP'].apply(lambda x: str(x) if (isinstance(x, (int, float)) and not pd.isna(x)) else \" \")\n",
    "\n",
    "# Definir una función para generar la nomenclatura\n",
    "def generar_nomenclatura(row):\n",
    "    reporte = str(row['REPORTE'])  # Convertir el valor a cadena por si acaso\n",
    "    dependen = str(row['DEPENDEN'])  # Convertir el valor a cadena por si acaso\n",
    "    sub_dep = str(row['SUB_DEP']).split('.')[0]  # Convertir el valor a cadena y eliminar contenido desde el punto decimal\n",
    "    primeros_tres = reporte[:3]\n",
    "    primeros_tres = reporte[:3]\n",
    "    ultimos_cuatro = reporte[-4:]\n",
    "    cuarto_digito = reporte[3]\n",
    "    guion_bajo = f\"_{sub_dep}\" if sub_dep.isdigit() else ''\n",
    "    return f\"{primeros_tres}_{ultimos_cuatro}_{cuarto_digito}_{dependen}{guion_bajo}\"\n",
    "\n",
    "# Aplicar la función para generar la columna de nomenclatura\n",
    "df['Nomenclatura'] = df.apply(generar_nomenclatura, axis=1)\n",
    "\n",
    "# Mostrar la información requerida junto con la nueva columna de nomenclatura\n",
    "#print(df[['REPORTE', 'DEPENDEN', 'SUB_DEP', 'Nomenclatura']])\n",
    "print(df.head()[['Nomenclatura']])\n",
    "\n",
    "# Crear una nueva columna en el DataFrame con los nombres de las nomenclaturas\n",
    "# df['Nomenclatura'] = df.apply(lambda row: f\"{row['REPORTE'][:3]}_{row['REPORTE'][-4:]}_{row['REPORTE'][3]}_{row['DEPENDEN']}_{row['SUB_DEP']}\" if isinstance(row['SUB_DEP'], int) else f\"{row['REPORTE'][:3]}_{row['REPORTE'][-4:]}_{row['REPORTE'][3]}_{row['DEPENDEN']}\" if pd.notnull(row['SUB_DEP']) else f\"{row['REPORTE'][:3]}_{row['REPORTE'][-4:]}_{row['REPORTE'][3]}_{row['DEPENDEN']}_\", axis=1)\n",
    "\n",
    "# df['Nomenclatura'] = df.apply(lambda row: f\"{row['REPORTE'][:3]}_{row['REPORTE'][-4:]}_{row['REPORTE'][3]}_{row['DEPENDEN']}_{'' if pd.isna(row['SUB_DEP']) or not str(row['SUB_DEP']).isdigit() else '_' + str(row['SUB_DEP'])}\", axis=1)\n",
    "\n",
    "# Quitar la extensión de los nombres de archivo en el DataFrame\n",
    "df_archivos['Nombre de Archivo'] = df_archivos['Nombre de Archivo'].apply(lambda x: os.path.splitext(x)[0])\n",
    "\n",
    "# Quitar la extensión de los nombres de archivo de la segunda carpeta\n",
    "df_archivos_2['Nombre de Archivo'] = df_archivos_2['Nombre de Archivo'].apply(lambda x: os.path.splitext(x)[0])\n",
    "\n",
    "# Concatenar los DataFrames de ambas carpetas\n",
    "df_final = pd.concat([df_archivos, df_archivos_2], ignore_index=True)\n",
    "\n",
    "# Renombrar la columna\n",
    "df_final = df_final.rename(columns={'Nombre de Archivo': 'Nomenclatura'})\n",
    "\n",
    "# Mostrar los primeros registros del nuevo DataFrame\n",
    "print(df_final.head())\n",
    "#print(df_final.tail(50))\n",
    "\n",
    "# Mostrar los primeros registros del nuevo DataFrame\n",
    "# print(df_archivos.head())\n",
    "\n",
    "# Obtener el número de archivos en cada DataFrame\n",
    "num_archivos_df_1 = df_archivos.shape[0]\n",
    "num_archivos_df_2 = df_archivos_2.shape[0]\n",
    "num_archivos_df_final = df_final.shape[0]\n",
    "df_total = df.shape[0]\n",
    "\n",
    "# Mostrar el número de archivos en cada DataFrame\n",
    "print(\"Número de archivos en el primer DataFrame:\", num_archivos_df_1)\n",
    "print(\"Número de archivos en el segundo DataFrame:\", num_archivos_df_2)\n",
    "print(\"Número de archivos en el DataFrame final:\", num_archivos_df_final)\n",
    "print(\"Número de archivos DF total:\", df_total)"
   ]
  },
  {
   "cell_type": "code",
   "execution_count": 40,
   "metadata": {},
   "outputs": [
    {
     "name": "stdout",
     "output_type": "stream",
     "text": [
      "Número de archivos que faltan en el DataFrame final: 5\n",
      "Número de archivos que faltan en el DataFrame original: 22\n",
      "Nomenclaturas que faltan en el DataFrame final:\n",
      "NOF_2322_0_302\n",
      "NOF_2322_0_201\n",
      "NOF_2322_0_306\n",
      "NOF_2322_0_106\n",
      "NOF_2322_0_231\n",
      "\n",
      "Nomenclaturas que faltan en el DataFrame original:\n",
      "NOA_2321_GE_408\n",
      "NOA_2321_GE_101\n",
      "NOA_2321_GE_503\n",
      "NOA_2321_GE_105\n",
      "ACTA ADMINISTRATIVA_224\n",
      "NOA_2321_GE_104\n",
      "NOA_2321_GE_503_1\n",
      "NOA_2321_GE_223\n",
      "NOA_2322_GE_508\n",
      "NOA_2321_GE_242\n",
      "NOA_2321_GE_603\n",
      "NOA_2321_GE_656\n",
      "NOA_2321_GE_232\n",
      "NOA_2321_GE_656_1\n",
      "NOA_2321_6_653\n",
      "NOA_2321_GE_252_1\n",
      "desktop\n",
      "PRUEBA\n",
      "NOA_2321_GE_102\n",
      "ACTA ADMINISTRATIVA_243\n",
      "NOA_2321_GE_251\n",
      "NOA_2321_GE_304\n"
     ]
    }
   ],
   "source": [
    "# Generar conjuntos de nomenclaturas para cada DataFrame\n",
    "nomenclaturas_df = set(df['Nomenclatura'])\n",
    "nomenclaturas_df_final = set(df_final['Nomenclatura'])\n",
    "\n",
    "# Encontrar nomenclaturas que faltan en df_final\n",
    "faltan_en_df_final = nomenclaturas_df - nomenclaturas_df_final\n",
    "\n",
    "# Encontrar nomenclaturas que faltan en df\n",
    "faltan_en_df = nomenclaturas_df_final - nomenclaturas_df\n",
    "\n",
    "# Mostrar el número de archivos que faltan en cada DataFrame\n",
    "print(\"Número de archivos que faltan en el DataFrame final:\", len(faltan_en_df_final))\n",
    "print(\"Número de archivos que faltan en el DataFrame original:\", len(faltan_en_df))\n",
    "\n",
    "# Mostrar la lista de nomenclaturas que no hacen match\n",
    "print(\"Nomenclaturas que faltan en el DataFrame final:\")\n",
    "for nomenclatura in faltan_en_df_final:\n",
    "    print(nomenclatura)\n",
    "\n",
    "print(\"\\nNomenclaturas que faltan en el DataFrame original:\")\n",
    "for nomenclatura in faltan_en_df:\n",
    "    print(nomenclatura)"
   ]
  },
  {
   "cell_type": "code",
   "execution_count": 41,
   "metadata": {},
   "outputs": [
    {
     "name": "stdout",
     "output_type": "stream",
     "text": [
      "Número de archivos que faltan en el DataFrame final: 5\n",
      "Nomenclaturas que faltan en el DataFrame final:\n",
      "NOF_2322_0_302\n",
      "NOF_2322_0_201\n",
      "NOF_2322_0_306\n",
      "NOF_2322_0_106\n",
      "NOF_2322_0_231\n"
     ]
    }
   ],
   "source": [
    "# Convertir las columnas de nomenclatura en conjuntos\n",
    "nomenclaturas_df = set(df['Nomenclatura'])\n",
    "nomenclaturas_df_final = set(df_final['Nomenclatura'])\n",
    "\n",
    "# Encontrar nomenclaturas que faltan en df_final\n",
    "faltan_en_df_final = nomenclaturas_df - nomenclaturas_df_final\n",
    "\n",
    "# Mostrar el número de archivos que faltan en el DataFrame final\n",
    "print(\"Número de archivos que faltan en el DataFrame final:\", len(faltan_en_df_final))\n",
    "\n",
    "# Mostrar nomenclaturas que faltan en el DataFrame final\n",
    "print(\"Nomenclaturas que faltan en el DataFrame final:\")\n",
    "for nomenclatura in faltan_en_df_final:\n",
    "    print(nomenclatura)"
   ]
  }
 ],
 "metadata": {
  "kernelspec": {
   "display_name": "Python 3",
   "language": "python",
   "name": "python3"
  },
  "language_info": {
   "codemirror_mode": {
    "name": "ipython",
    "version": 3
   },
   "file_extension": ".py",
   "mimetype": "text/x-python",
   "name": "python",
   "nbconvert_exporter": "python",
   "pygments_lexer": "ipython3",
   "version": "3.11.3"
  }
 },
 "nbformat": 4,
 "nbformat_minor": 2
}
